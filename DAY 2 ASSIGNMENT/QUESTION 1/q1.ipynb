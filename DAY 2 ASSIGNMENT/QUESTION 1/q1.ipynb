{
 "cells": [
  {
   "cell_type": "markdown",
   "metadata": {},
   "source": [
    "# Questions 1:\n",
    "Create an empty list. Accept 10 numbers from the user and append to it the list if it is an even number."
   ]
  },
  {
   "cell_type": "code",
   "execution_count": 2,
   "metadata": {},
   "outputs": [
    {
     "name": "stdout",
     "output_type": "stream",
     "text": [
      "Enter the 1 element:76\n",
      "Enter the 2 element:33\n",
      "Enter the 3 element:234\n",
      "Enter the 4 element:975\n",
      "Enter the 5 element:1234\n",
      "Enter the 6 element:66\n",
      "Enter the 7 element:2\n",
      "Enter the 8 element:7\n",
      "Enter the 9 element:1\n",
      "Enter the 10 element:11\n",
      "The list of even numbers:  [76, 234, 1234, 66, 2]\n"
     ]
    }
   ],
   "source": [
    "l=[]\n",
    "i=1\n",
    "while(i<=10):\n",
    "    a=int(input(\"Enter the \"+str(i)+\" element:\"))\n",
    "    i=i+1\n",
    "    if(a%2==0):\n",
    "        l.append(a)\n",
    "print(\"The list of even numbers: \",l)"
   ]
  },
  {
   "cell_type": "code",
   "execution_count": null,
   "metadata": {},
   "outputs": [],
   "source": []
  }
 ],
 "metadata": {
  "kernelspec": {
   "display_name": "Python 3",
   "language": "python",
   "name": "python3"
  },
  "language_info": {
   "codemirror_mode": {
    "name": "ipython",
    "version": 3
   },
   "file_extension": ".py",
   "mimetype": "text/x-python",
   "name": "python",
   "nbconvert_exporter": "python",
   "pygments_lexer": "ipython3",
   "version": "3.8.3"
  }
 },
 "nbformat": 4,
 "nbformat_minor": 4
}
