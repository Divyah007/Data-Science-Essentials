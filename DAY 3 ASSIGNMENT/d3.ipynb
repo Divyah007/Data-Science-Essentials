{
 "cells": [
  {
   "cell_type": "markdown",
   "metadata": {},
   "source": [
    "# Questions 1:\n",
    "Create a numpy array starting from 2 till 50 with a stepsize of 3."
   ]
  },
  {
   "cell_type": "code",
   "execution_count": 1,
   "metadata": {},
   "outputs": [
    {
     "name": "stdout",
     "output_type": "stream",
     "text": [
      "[ 2  5  8 11 14 17 20 23 26 29 32 35 38 41 44 47]\n"
     ]
    }
   ],
   "source": [
    "import numpy as d\n",
    "print(d.arange(2,50,3)) #start,stop,stepsize(difference)"
   ]
  },
  {
   "cell_type": "markdown",
   "metadata": {},
   "source": []
  },
  {
   "cell_type": "markdown",
   "metadata": {},
   "source": [
    "# Questions 2:\n",
    "Accept two lists of 5 elements each from the user.\n",
    "Convert them to numpy arrays. Concatenate these arrays and print it. Also sort these arrays and print it."
   ]
  },
  {
   "cell_type": "code",
   "execution_count": 14,
   "metadata": {},
   "outputs": [
    {
     "name": "stdout",
     "output_type": "stream",
     "text": [
      "Elements of first list:\n",
      " \n",
      "Enter the 1 element: 22\n",
      "Enter the 2 element: 34\n",
      "Enter the 3 element: 56\n",
      "Enter the 4 element: 87\n",
      "Enter the 5 element: 12\n",
      "[22, 34, 56, 87, 12]\n",
      " \n",
      "Elements of second list:\n",
      " \n",
      "Enter the 1 element: 45\n",
      "Enter the 2 element: 1\n",
      "Enter the 3 element: 5\n",
      "Enter the 4 element: 9\n",
      "Enter the 5 element: 14\n",
      "[45, 1, 5, 9, 14]\n",
      " \n",
      "Conversion of list to numpy array\n",
      "Conversion of first list to numpy array:  [22 34 56 87 12]\n",
      "Conversion of second list to numpy array:  [45  1  5  9 14]\n",
      "The concatenation of the two numpy array is:  [22 34 56 87 12 45  1  5  9 14]\n",
      " \n",
      "The sorted numpy array is:  [ 1  5  9 12 14 22 34 45 56 87]\n"
     ]
    }
   ],
   "source": [
    "l1=[] \n",
    "l2=[]\n",
    "\n",
    "print(\"Elements of first list:\")\n",
    "print(\" \")\n",
    "i=1\n",
    "while(i<=5):\n",
    "    a=int(input(\"Enter the \"+str(i)+\" element: \"))\n",
    "    l1.append(a)\n",
    "    i=i+1\n",
    "print(l1)\n",
    "print(\" \")\n",
    "print(\"Elements of second list:\")\n",
    "print(\" \")\n",
    "j=1\n",
    "while(j<=5):\n",
    "    b=int(input(\"Enter the \"+str(j)+\" element: \"))\n",
    "    l2.append(b)\n",
    "    j=j+1\n",
    "print(l2)\n",
    "print(\" \")\n",
    "print(\"Conversion of list to numpy array\")\n",
    "\n",
    "# converting list to array\n",
    "na = d.array(l1)\n",
    "nb = d.array(l2)\n",
    "print(\"Conversion of first list to numpy array: \",na)    \n",
    "print(\"Conversion of second list to numpy array: \",nb)\n",
    "\n",
    "c=d.concatenate((na,nb))\n",
    "print(\"The concatenation of the two numpy array is: \",c)\n",
    "print(\" \")\n",
    "s=d.sort(c)\n",
    "print(\"The sorted numpy array is: \",s)"
   ]
  },
  {
   "cell_type": "markdown",
   "metadata": {},
   "source": []
  },
  {
   "cell_type": "markdown",
   "metadata": {},
   "source": [
    "# Questions 3:\n",
    "Write a code snippet to find the dimensions of a ndarray and its size."
   ]
  },
  {
   "cell_type": "code",
   "execution_count": 20,
   "metadata": {},
   "outputs": [
    {
     "name": "stdout",
     "output_type": "stream",
     "text": [
      "The numpy array a:  [1 2 3 4 5]\n",
      "The dimension of the numpy array a is:  (5,)\n",
      "The size of the numpy array a is:  5\n",
      " \n",
      "The numpy array a:  [[9 8 7]\n",
      " [6 5 4]]\n",
      "The dimension of the numpy array a is:  (2, 3)\n",
      "The size of the numpy array a is:  6\n"
     ]
    }
   ],
   "source": [
    "import numpy as n\n",
    "a=n.array([1,2,3,4,5,])\n",
    "print(\"The numpy array a: \",a)\n",
    "print(\"The dimension of the numpy array a is: \",d.shape(a))\n",
    "a1=n.size(a)# size is no. of elements in an array\n",
    "print(\"The size of the numpy array a is: \",a1)\n",
    "\n",
    "\n",
    "\n",
    "print(\" \")\n",
    "b=n.array([[9,8,7],[6,5,4]])\n",
    "print(\"The numpy array a: \",b)\n",
    "print(\"The dimension of the numpy array a is: \",d.shape(b))\n",
    "b1=n.size(b)\n",
    "print(\"The size of the numpy array a is: \",b1)"
   ]
  },
  {
   "cell_type": "markdown",
   "metadata": {},
   "source": []
  },
  {
   "cell_type": "markdown",
   "metadata": {},
   "source": [
    "# Questions 4:\n",
    "\n",
    "How to convert a 1D array into a 2D array? Demonstrate with the help of a code snippet\n",
    "Hint: np.newaxis, np.expand_dims"
   ]
  },
  {
   "cell_type": "code",
   "execution_count": 55,
   "metadata": {},
   "outputs": [
    {
     "name": "stdout",
     "output_type": "stream",
     "text": [
      "\n",
      "Shape of Array : (10,)\n",
      "\n",
      "Shape of 2d Array in row major : (1, 10)\n",
      "\n",
      "Shape of 2d Array in column major : (10, 1)\n"
     ]
    }
   ],
   "source": [
    "import numpy as np\n",
    "# creating a 1d array\n",
    "arr = np.arange(10)\n",
    "print(\"\\nShape of Array :\",arr.shape)\n",
    "\n",
    "# converting using newaxis in row wise\n",
    "row_arr = arr[np.newaxis, :]\n",
    "print(\"\\nShape of 2d Array in row major :\",row_arr.shape)\n",
    "\n",
    "# converting using newaxis in column wise\n",
    "col_arr = arr[:, np.newaxis]\n",
    "print(\"\\nShape of 2d Array in column major :\",col_arr.shape)"
   ]
  },
  {
   "cell_type": "code",
   "execution_count": 56,
   "metadata": {},
   "outputs": [
    {
     "name": "stdout",
     "output_type": "stream",
     "text": [
      "\n",
      "Shape of Array : (10,)\n",
      "\n",
      "Shape of 2d Array in row major : (1, 10)\n",
      "\n",
      "Shape of 2d Array in column major : (10, 1)\n"
     ]
    }
   ],
   "source": [
    "# importing numpy\n",
    "import numpy as np\n",
    "\n",
    "# creating a 1d array\n",
    "arr = np.arange(10)\n",
    "print(\"\\nShape of Array :\",arr.shape)\n",
    "\n",
    "# converting using newaxis in row wise\n",
    "row_arr = np.expand_dims(arr, axis=0)\n",
    "print(\"\\nShape of 2d Array in row major :\",row_arr.shape)\n",
    "\n",
    "# converting using newaxis in column wise\n",
    "col_arr = np.expand_dims(arr, axis=1)\n",
    "print(\"\\nShape of 2d Array in column major :\",col_arr.shape)"
   ]
  },
  {
   "cell_type": "markdown",
   "metadata": {},
   "source": []
  },
  {
   "cell_type": "markdown",
   "metadata": {},
   "source": [
    "# Questions 5:\n",
    "Consider two square numpy arrays. Stack them vertically and horizontally.\n",
    "Hint: Use vstack(), hstack()"
   ]
  },
  {
   "cell_type": "code",
   "execution_count": 57,
   "metadata": {},
   "outputs": [
    {
     "name": "stdout",
     "output_type": "stream",
     "text": [
      "\n",
      "Horizontal Append : [  1   4   9  16  25  36  49  64  81 100]\n",
      "\n",
      "Vertical Append : [[  1   4   9  16  25]\n",
      " [ 36  49  64  81 100]]\n"
     ]
    }
   ],
   "source": [
    "import numpy as np\n",
    "\n",
    "# creating a array with square values\n",
    "arr_1 = np.square([1, 2, 3, 4, 5])\n",
    "arr_2 = np.square([6, 7, 8, 9, 10])\n",
    "\n",
    "# stacking and printing the value\n",
    "print(\"\\nHorizontal Append :\", np.hstack((arr_1, arr_2)))\n",
    "print(\"\\nVertical Append :\", np.vstack((arr_1, arr_2)))"
   ]
  },
  {
   "cell_type": "markdown",
   "metadata": {},
   "source": []
  },
  {
   "cell_type": "markdown",
   "metadata": {},
   "source": [
    "# Questions 6:\n",
    "How to get unique items and counts of unique items?"
   ]
  },
  {
   "cell_type": "code",
   "execution_count": 59,
   "metadata": {},
   "outputs": [
    {
     "name": "stdout",
     "output_type": "stream",
     "text": [
      "[[ 1  2]\n",
      " [ 2  2]\n",
      " [ 3  1]\n",
      " [ 4  2]\n",
      " [ 5  2]\n",
      " [ 6  1]\n",
      " [ 7  1]\n",
      " [ 8  1]\n",
      " [ 9  1]\n",
      " [10  1]\n",
      " [16  1]\n",
      " [25  1]]\n"
     ]
    }
   ],
   "source": [
    "# importing numpy\n",
    "import numpy as np\n",
    "\n",
    "# creating a array \n",
    "arr_1 = np.array([1, 4, 9, 16, 25, 1, 4, 2, 3, 2, 5, 6, 5, 7, 8, 10])\n",
    "\n",
    "# getting unique charater and its count\n",
    "unique, counts = np.unique(arr_1, return_counts=True)\n",
    "\n",
    "\n",
    "# making a \n",
    "arr = np.asarray((unique, counts)).T\n",
    "\n",
    "print(arr)"
   ]
  },
  {
   "cell_type": "code",
   "execution_count": null,
   "metadata": {},
   "outputs": [],
   "source": []
  }
 ],
 "metadata": {
  "kernelspec": {
   "display_name": "Python 3",
   "language": "python",
   "name": "python3"
  },
  "language_info": {
   "codemirror_mode": {
    "name": "ipython",
    "version": 3
   },
   "file_extension": ".py",
   "mimetype": "text/x-python",
   "name": "python",
   "nbconvert_exporter": "python",
   "pygments_lexer": "ipython3",
   "version": "3.8.3"
  }
 },
 "nbformat": 4,
 "nbformat_minor": 4
}
